{
  "nbformat": 4,
  "nbformat_minor": 0,
  "metadata": {
    "colab": {
      "name": "Lab7.ipynb",
      "provenance": [],
      "authorship_tag": "ABX9TyMqSZ9RLfiknIrPyag8wFg+",
      "include_colab_link": true
    },
    "kernelspec": {
      "name": "python3",
      "display_name": "Python 3"
    },
    "language_info": {
      "name": "python"
    }
  },
  "cells": [
    {
      "cell_type": "markdown",
      "metadata": {
        "id": "view-in-github",
        "colab_type": "text"
      },
      "source": [
        "<a href=\"https://colab.research.google.com/github/buidon/phantichdulieu/blob/main/Lab7.ipynb\" target=\"_parent\"><img src=\"https://colab.research.google.com/assets/colab-badge.svg\" alt=\"Open In Colab\"/></a>"
      ]
    },
    {
      "cell_type": "code",
      "execution_count": 77,
      "metadata": {
        "id": "Gzug2hqsR0T_"
      },
      "outputs": [],
      "source": [
        "import numpy as np\n",
        "#hàm để hiển thị các tấm ảnh\n",
        "import matplotlib.pyplot as plt\n",
        "from keras.preprocessing.image import img_to_array\n",
        "from keras.preprocessing.image import load_img"
      ]
    },
    {
      "cell_type": "code",
      "source": [
        "#để chọn ngẫu nhiên các tấm ảnh\n",
        "import random\n",
        "import os"
      ],
      "metadata": {
        "id": "mAjeCZ2zS9Vm"
      },
      "execution_count": 78,
      "outputs": []
    },
    {
      "cell_type": "code",
      "source": [
        "#để load dữ liệu trong tập mẫu\n",
        "from keras.datasets import mnist\n",
        "from keras.models import load_model\n",
        "from matplotlib import image"
      ],
      "metadata": {
        "id": "apY-cgRNTJV4"
      },
      "execution_count": 79,
      "outputs": []
    },
    {
      "cell_type": "markdown",
      "source": [
        "Các hàm sau để xây dựng mô hình mạng neural"
      ],
      "metadata": {
        "id": "IEnhyzavTmBM"
      }
    },
    {
      "cell_type": "code",
      "source": [
        "#thêm 1 lớp, thêm hàm kích hoạt activation\n",
        "from keras.models import Sequential\n",
        "from keras.utils import np_utils\n",
        "from keras.layers.core import Dense,Activation\n",
        "(x_train,y_train),(x_test,y_test)=mnist.load_data()"
      ],
      "metadata": {
        "id": "fPQeaNtgTh_o"
      },
      "execution_count": 80,
      "outputs": []
    },
    {
      "cell_type": "code",
      "source": [
        "def load_image(filename):\n",
        "  # load tấm ảnh lên\n",
        "  img = load_img(filename, grayscale=True, target_size=(28, 28))\n",
        "  # chuyển về dạng vector\n",
        "  img=img_to_array(img)\n",
        "\t# reshape into a single sample with 1 channel\n",
        "  img=img.reshape(1,784)\n",
        "  img=img.astype('float32')\n",
        "  #chuẩn hóa dữ liệu về 0-1\n",
        "  img=img/255.0\n",
        "  return img"
      ],
      "metadata": {
        "id": "exj3wt7CUQpb"
      },
      "execution_count": 81,
      "outputs": []
    },
    {
      "cell_type": "code",
      "source": [
        "#dữ liệu trong tập data mnist là 60000 tấm ảnh trắng đen có kích thước là 28X28 pixel\n",
        "#mỗi pixel có giá trị từ 0-255, 0 là màu đen và 255 là màu trắng sáng nhất\n",
        "# các giá trị càng gần với 255 thì càng sáng\n",
        "# xem shape của tập train, sau khi xem thì ta sẽ thấy thông tin x_train shape (60000, 28, 28)\n",
        "# nghĩa là có 60000 tấm ảnh trong tập train, mỗi tấm ảnh có kích thước 28*28\n",
        "print(\"x_train shape\",x_train.shape)"
      ],
      "metadata": {
        "colab": {
          "base_uri": "https://localhost:8080/"
        },
        "id": "z4kXquZQVb_w",
        "outputId": "65f856fb-5d49-4272-bb3b-baf55c3cd54d"
      },
      "execution_count": 82,
      "outputs": [
        {
          "output_type": "stream",
          "name": "stdout",
          "text": [
            "x_train shape (60000, 28, 28)\n"
          ]
        }
      ]
    },
    {
      "cell_type": "markdown",
      "source": [
        "Hàm để hiển thị ảnh ngẫu nhiên"
      ],
      "metadata": {
        "id": "PVHnfr9JWBmC"
      }
    },
    {
      "cell_type": "code",
      "source": [
        "\"\"\"\n",
        "plt.rcParams['figure.figsize']=(9,9)\n",
        "for i in range(9):\n",
        "  plt.subplot(3,3,i+1)\n",
        "  num=random.randint(0,len(x_train))\n",
        "  plt.imshow(x_train[num],cmap='gray',interpolation=None)\n",
        "  plt.title('Class {}'.format(y_train[num]))\n",
        "plt.tight_layout()\n",
        "\"\"\""
      ],
      "metadata": {
        "colab": {
          "base_uri": "https://localhost:8080/",
          "height": 87
        },
        "id": "wARrmb5HV-rs",
        "outputId": "e2fff623-eb31-4d13-8f2c-76e7de6cd77f"
      },
      "execution_count": 83,
      "outputs": [
        {
          "output_type": "execute_result",
          "data": {
            "text/plain": [
              "\"\\nplt.rcParams['figure.figsize']=(9,9)\\nfor i in range(9):\\n  plt.subplot(3,3,i+1)\\n  num=random.randint(0,len(x_train))\\n  plt.imshow(x_train[num],cmap='gray',interpolation=None)\\n  plt.title('Class {}'.format(y_train[num]))\\nplt.tight_layout()\\n\""
            ],
            "application/vnd.google.colaboratory.intrinsic+json": {
              "type": "string"
            }
          },
          "metadata": {},
          "execution_count": 83
        }
      ]
    },
    {
      "cell_type": "code",
      "source": [
        "#chuyển đổi đầu vào là 1 vector\n",
        "#vì tập dữ liệu nmist được lưu ở dạng ma trận 2 chiều gồm 28 dòng 28 cột\n",
        "#nên phải chuyển từ ma trận sang vetor\n",
        "#784=28*28\n",
        "x_train=x_train.reshape(60000,784)\n",
        "x_train=x_train.astype('float32')\n",
        "#chuẩn hóa dữ liệu bằn trong 0-1 nên chia cho 255\n",
        "x_train/=255"
      ],
      "metadata": {
        "id": "jA14iwuiepPf"
      },
      "execution_count": 84,
      "outputs": []
    },
    {
      "cell_type": "code",
      "source": [
        "#test\n",
        "print(x_train)"
      ],
      "metadata": {
        "colab": {
          "base_uri": "https://localhost:8080/"
        },
        "id": "uvSRWSqRfaIV",
        "outputId": "ce62c02d-fd5c-4d66-9052-b1127cbef78a"
      },
      "execution_count": 85,
      "outputs": [
        {
          "output_type": "stream",
          "name": "stdout",
          "text": [
            "[[0. 0. 0. ... 0. 0. 0.]\n",
            " [0. 0. 0. ... 0. 0. 0.]\n",
            " [0. 0. 0. ... 0. 0. 0.]\n",
            " ...\n",
            " [0. 0. 0. ... 0. 0. 0.]\n",
            " [0. 0. 0. ... 0. 0. 0.]\n",
            " [0. 0. 0. ... 0. 0. 0.]]\n"
          ]
        }
      ]
    },
    {
      "cell_type": "code",
      "source": [
        "#giống như tập train, tập test gồm có 10000 tấm ảnh\n",
        "x_test=x_test.reshape(10000,784)\n",
        "x_test=x_test.astype('float32')\n",
        "x_test/=255\n",
        "#test\n",
        "print(x_test)"
      ],
      "metadata": {
        "colab": {
          "base_uri": "https://localhost:8080/"
        },
        "id": "7RZHGqz4flRG",
        "outputId": "a4827261-e0b6-4b12-cae7-b2345fade1dc"
      },
      "execution_count": 86,
      "outputs": [
        {
          "output_type": "stream",
          "name": "stdout",
          "text": [
            "[[0. 0. 0. ... 0. 0. 0.]\n",
            " [0. 0. 0. ... 0. 0. 0.]\n",
            " [0. 0. 0. ... 0. 0. 0.]\n",
            " ...\n",
            " [0. 0. 0. ... 0. 0. 0.]\n",
            " [0. 0. 0. ... 0. 0. 0.]\n",
            " [0. 0. 0. ... 0. 0. 0.]]\n"
          ]
        }
      ]
    },
    {
      "cell_type": "code",
      "source": [
        "# vì đầu ra của mạng neural là nhận dạng 1 tấm ảnh thuộc 1 trong các lớp 0-9, nên ta dùng hàm này để \n",
        "# gán các giá trị kết quả cho tập y_test\n",
        "# ví dụ tấm ảnh là số 2 thì y_test ứng với tấm đó là:\n",
        "# [[0. 0. 1. ... 0. 0. 0.]]\n",
        "# giá trị ở vị trí số 2 là 1, các giá trị còn lại là 0\n",
        "np_class=10\n",
        "y_train=np_utils.to_categorical(y_train,np_class)\n",
        "y_test=np_utils.to_categorical(y_test,np_class)\n"
      ],
      "metadata": {
        "id": "9xX9su83gDfC"
      },
      "execution_count": 87,
      "outputs": []
    },
    {
      "cell_type": "code",
      "source": [
        "model=Sequential()\n",
        "#add vào 1 lớp input, có 10 neural mỗi neural có 784 input\n",
        "model.add(Dense(10,input_shape=(784,)))\n",
        "model.add(Activation('relu'))"
      ],
      "metadata": {
        "id": "_Atvgx4Cgl7B"
      },
      "execution_count": 88,
      "outputs": []
    },
    {
      "cell_type": "code",
      "source": [
        "# add lớp hidden sẽ tự động lấy đầu vào của lớp đầu, giá trị hiden có thể thay đổi\n",
        "model.add(Dense(40))\n",
        "model.add(Activation('relu'))\n",
        "#add vào lớp đầu ra bắt buộc là 10, vì 0->9 là 10 giá trị\n",
        "model.add(Dense(10))"
      ],
      "metadata": {
        "id": "4L1q5_dIhBFg"
      },
      "execution_count": 89,
      "outputs": []
    },
    {
      "cell_type": "code",
      "source": [
        "# dùng hàm softmax vì đầu ra là 10 lớp (nhận dạng số 0-9)\n",
        "model.add(Activation('softmax'))\n",
        "model.summary()"
      ],
      "metadata": {
        "colab": {
          "base_uri": "https://localhost:8080/"
        },
        "id": "jE5jRDYXioio",
        "outputId": "9c7430ea-c426-43ab-cc4f-5c7f8cece0ff"
      },
      "execution_count": 90,
      "outputs": [
        {
          "output_type": "stream",
          "name": "stdout",
          "text": [
            "Model: \"sequential_3\"\n",
            "_________________________________________________________________\n",
            " Layer (type)                Output Shape              Param #   \n",
            "=================================================================\n",
            " dense_9 (Dense)             (None, 10)                7850      \n",
            "                                                                 \n",
            " activation_13 (Activation)  (None, 10)                0         \n",
            "                                                                 \n",
            " dense_10 (Dense)            (None, 40)                440       \n",
            "                                                                 \n",
            " activation_14 (Activation)  (None, 40)                0         \n",
            "                                                                 \n",
            " dense_11 (Dense)            (None, 10)                410       \n",
            "                                                                 \n",
            " activation_15 (Activation)  (None, 10)                0         \n",
            "                                                                 \n",
            "=================================================================\n",
            "Total params: 8,700\n",
            "Trainable params: 8,700\n",
            "Non-trainable params: 0\n",
            "_________________________________________________________________\n"
          ]
        }
      ]
    },
    {
      "cell_type": "code",
      "source": [
        "model.compile(loss='categorical_crossentropy',optimizer='rmsprop',metrics=['accuracy'])\n",
        "#mỗi lần lấy 128 tấm ảnh để train\n",
        "history=model.fit(x_train, y_train, batch_size = 128,epochs = 5,verbose = 2,validation_data=( x_test, y_test ))\n",
        "#model.fit(x_train,y_train,batch_size=128,epochs=5)\n",
        "save_dir = \"/ results /\"\n",
        "model_name = 'keras_mnist.h5'\n",
        "model_path = os.path.join(save_dir, model_name)\n",
        "model.save (model_path)\n",
        "print( 'Saved trained model at %s ' % model_path )"
      ],
      "metadata": {
        "colab": {
          "base_uri": "https://localhost:8080/"
        },
        "id": "HxeetRgpnfmJ",
        "outputId": "c8b8fa35-086a-4506-812c-332c31a31735"
      },
      "execution_count": 91,
      "outputs": [
        {
          "output_type": "stream",
          "name": "stdout",
          "text": [
            "Epoch 1/5\n",
            "469/469 - 2s - loss: 0.7264 - accuracy: 0.7862 - val_loss: 0.3679 - val_accuracy: 0.8945 - 2s/epoch - 3ms/step\n",
            "Epoch 2/5\n",
            "469/469 - 1s - loss: 0.3383 - accuracy: 0.9022 - val_loss: 0.2887 - val_accuracy: 0.9143 - 988ms/epoch - 2ms/step\n",
            "Epoch 3/5\n",
            "469/469 - 1s - loss: 0.2769 - accuracy: 0.9191 - val_loss: 0.2528 - val_accuracy: 0.9274 - 983ms/epoch - 2ms/step\n",
            "Epoch 4/5\n",
            "469/469 - 1s - loss: 0.2419 - accuracy: 0.9303 - val_loss: 0.2301 - val_accuracy: 0.9310 - 976ms/epoch - 2ms/step\n",
            "Epoch 5/5\n",
            "469/469 - 1s - loss: 0.2208 - accuracy: 0.9367 - val_loss: 0.2173 - val_accuracy: 0.9371 - 922ms/epoch - 2ms/step\n",
            "Saved trained model at / results /keras_mnist.h5 \n"
          ]
        }
      ]
    },
    {
      "cell_type": "code",
      "source": [
        "fig = plt.figure ()\n",
        "plt.subplot( 2,1,1 )\n",
        "plt.plot(history.history['accuracy'])\n",
        "plt.plot (history.history['val_accuracy'])\n",
        "plt.title ('model accuracy')\n",
        "plt.ylabel ('accuracy')\n",
        "plt.xlabel ('epoch')\n",
        "plt.legend (['train', 'test'], loc='lower right')\n"
      ],
      "metadata": {
        "colab": {
          "base_uri": "https://localhost:8080/",
          "height": 194
        },
        "id": "u6LNfzYhjcOr",
        "outputId": "1bea1baa-e083-43b0-9043-d5e75877a648"
      },
      "execution_count": 92,
      "outputs": [
        {
          "output_type": "execute_result",
          "data": {
            "text/plain": [
              "<matplotlib.legend.Legend at 0x7f5dc974a510>"
            ]
          },
          "metadata": {},
          "execution_count": 92
        },
        {
          "output_type": "display_data",
          "data": {
            "text/plain": [
              "<Figure size 432x288 with 1 Axes>"
            ],
            "image/png": "[encoded data removed]"
          },
          "metadata": {
            "needs_background": "light"
          }
        }
      ]
    },
    {
      "cell_type": "code",
      "source": [
        "plt.subplot (2,1,2)\n",
        "plt.plot( history.history ['loss'])\n",
        "plt.plot( history.history['val_loss'])\n",
        "plt.title('model loss' )\n",
        "plt.ylabel('loss')\n",
        "plt.xlabel('epoch')\n",
        "plt.legend(['train','test'],loc='upper right')\n",
        "plt.tight_layout ()\n",
        "\n"
      ],
      "metadata": {
        "colab": {
          "base_uri": "https://localhost:8080/",
          "height": 182
        },
        "id": "cJyJM9q8jh0s",
        "outputId": "ad1fb1cb-91b7-4e4c-f3e3-ff4b88a7ee7f"
      },
      "execution_count": 93,
      "outputs": [
        {
          "output_type": "display_data",
          "data": {
            "text/plain": [
              "<Figure size 432x288 with 1 Axes>"
            ],
            "image/png": "[encoded data removed]"
          },
          "metadata": {
            "needs_background": "light"
          }
        }
      ]
    },
    {
      "cell_type": "markdown",
      "source": [
        ""
      ],
      "metadata": {
        "id": "MrB8Lu28kFf1"
      }
    },
    {
      "cell_type": "code",
      "source": [
        "mnist_model = load_model(model_path)\n",
        "loss_and_metrics = mnist_model.evaluate( x_test, y_test, verbose = 2 )\n",
        "print( \"Test Loss\" , loss_and_metrics [0])\n",
        "print( \"Test Accuracy\" , loss_and_metrics[1])\n"
      ],
      "metadata": {
        "colab": {
          "base_uri": "https://localhost:8080/"
        },
        "id": "xjw4BB5Xjkyt",
        "outputId": "a05b456b-2e71-4e73-9c2e-ef6410a79807"
      },
      "execution_count": 94,
      "outputs": [
        {
          "output_type": "stream",
          "name": "stdout",
          "text": [
            "313/313 - 0s - loss: 0.2173 - accuracy: 0.9371 - 427ms/epoch - 1ms/step\n",
            "Test Loss 0.2172994613647461\n",
            "Test Accuracy 0.9370999932289124\n"
          ]
        }
      ]
    },
    {
      "cell_type": "code",
      "source": [
        "#load 1 tấm ảnh cần dự báo\n",
        "image_test = load_image('so2.JPG')\n",
        "\n",
        "#dụ báo tấm ảnh này là số mấy\n",
        "digit = mnist_model.predict(image_test)\n",
        "print('Du bao day la so:',digit[0].argmax())\n"
      ],
      "metadata": {
        "colab": {
          "base_uri": "https://localhost:8080/"
        },
        "id": "7POtwx8nkDZK",
        "outputId": "b84af9a5-bbf3-4737-b1f2-2c2b58b1d11d"
      },
      "execution_count": 95,
      "outputs": [
        {
          "output_type": "stream",
          "name": "stdout",
          "text": [
            "Du bao day la so: 2\n"
          ]
        },
        {
          "output_type": "stream",
          "name": "stderr",
          "text": [
            "/usr/local/lib/python3.7/dist-packages/keras_preprocessing/image/utils.py:107: UserWarning: grayscale is deprecated. Please use color_mode = \"grayscale\"\n",
            "  warnings.warn('grayscale is deprecated. Please use '\n"
          ]
        }
      ]
    },
    {
      "cell_type": "code",
      "source": [
        "# hiển thị 9 tấm ảnh ngẫu nhiên trong tập test\n",
        "# hiển thị kết quả dự báo của 9 tấm ảnh này theo mô hình neural vừa xây dựng\n",
        "# vì hàm imshow để hiển thị tấm ảnh dạng 28*28, vì ta đã reshape tấm ảnh thành dạng vector ở bước trước\n",
        "# nên bây giờ muốn hiển thị tấm ảnh cho tập dữ liệu đã reshape, ta lại dùng hàm reshape để về dạng ban đầu\n",
        "# vì hàm softmax dùng ở mạng neural ở lớp output là hàm tính xác suất, nên xác suất rơi vào lớp nào nhiều nhất thì output sẽ ra giá trị đó.\n",
        "# muốn xuất kết quả dự báo, ta dùng hàm argmax()\n",
        "predicted_classes=mnist_model.predict(x_test)\n"
      ],
      "metadata": {
        "id": "QMzMQyO0k3bi"
      },
      "execution_count": 96,
      "outputs": []
    },
    {
      "cell_type": "code",
      "source": [
        "plt.rcParams['figure.figsize']=(9,9)\n",
        "for i in range(9):\n",
        "  plt.subplot(3,3,i+1)\n",
        "  num=random.randint(0,len(x_test))\n",
        "  plt.imshow(x_test[num].reshape(28,28),cmap='gray',interpolation=None)\n",
        "  plt.title('Class {}'.format(predicted_classes[num].argmax()))\n",
        "plt.tight_layout()  \n"
      ],
      "metadata": {
        "colab": {
          "base_uri": "https://localhost:8080/",
          "height": 657
        },
        "id": "ECiZTvakpBUT",
        "outputId": "eb8f9bc8-58bc-481b-9dc9-a0be19295dbc"
      },
      "execution_count": 97,
      "outputs": [
        {
          "output_type": "display_data",
          "data": {
            "text/plain": [
              "<Figure size 648x648 with 9 Axes>"
            ],
            "image/png": "[encoded data removed]"
          },
          "metadata": {
            "needs_background": "light"
          }
        }
      ]
    },
    {
      "cell_type": "code",
      "source": [
        ""
      ],
      "metadata": {
        "id": "Oa16Z6w7pGoh"
      },
      "execution_count": null,
      "outputs": []
    }
  ]
}